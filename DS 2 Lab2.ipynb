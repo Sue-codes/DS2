{
 "cells": [
  {
   "cell_type": "markdown",
   "metadata": {},
   "source": [
    "# Matrices"
   ]
  },
  {
   "cell_type": "code",
   "execution_count": 1,
   "metadata": {},
   "outputs": [
    {
     "name": "stdout",
     "output_type": "stream",
     "text": [
      " A, B and C are matrices of type <class 'numpy.ndarray'>, <class 'numpy.ndarray'>, <class 'numpy.ndarray'>\n"
     ]
    }
   ],
   "source": [
    "import numpy as np \n",
    "A = np.array([[10, 95, 8], [95, 20, 9], [8, 9, 30]])\n",
    "B  = np.array([[5, 8, 3, 6], [ 95, 20, 9, 3], [ 8, 9, 30, 3], [8, 9, 30, 3]])\n",
    "C = np.array([[0, 6, 250 ], [-6, 0, 86.3], [-250, -86.3, 0]])\n",
    "\n",
    "type_A = type(A)\n",
    "type_B = type(B)\n",
    "type_C = type(C)\n",
    "\n",
    "print(\" A, B and C are matrices of type {}, {}, {}\".format(type_A, type_B, type_C))"
   ]
  },
  {
   "cell_type": "markdown",
   "metadata": {},
   "source": [
    "## Transpose A, B and C"
   ]
  },
  {
   "cell_type": "code",
   "execution_count": 2,
   "metadata": {},
   "outputs": [
    {
     "name": "stdout",
     "output_type": "stream",
     "text": [
      "A transpose is  \n",
      " [[10 95  8]\n",
      " [95 20  9]\n",
      " [ 8  9 30]]\n",
      "B transpose is \n",
      " [[ 5 95  8  8]\n",
      " [ 8 20  9  9]\n",
      " [ 3  9 30 30]\n",
      " [ 6  3  3  3]]\n",
      "C transpose is \n",
      " [[   0.    -6.  -250. ]\n",
      " [   6.     0.   -86.3]\n",
      " [ 250.    86.3    0. ]]\n"
     ]
    }
   ],
   "source": [
    "# transpose of the matrices\n",
    "A_T = np.transpose(A)\n",
    "B_T = np.transpose(B)\n",
    "C_T = np.transpose(C)\n",
    "print(\"A transpose is  \\n {}\".format(A_T)) \n",
    "print(\"B transpose is \\n {}\".format(B_T)) \n",
    "print(\"C transpose is \\n {}\".format(C_T)) "
   ]
  },
  {
   "cell_type": "markdown",
   "metadata": {},
   "source": [
    "Let us check each matrix for three things - Is it Symmetric, Skew Symmetric, Singular Remember -\n",
    "\n",
    "Symmetric is  𝐴𝑇=𝐴 \n",
    "Skew Symmetric is  𝐴𝑇=−𝐴 \n",
    "Singular is  det(𝐴)=0 \n",
    "At this point, we already have the transposed values so its easy to check if all the matrices are Symmetric, Skew Symmetric or Singular. Since we have three matrices and we need to do the same thing on all three matrices, we are going to write a function to solve this problem."
   ]
  },
  {
   "cell_type": "code",
   "execution_count": 3,
   "metadata": {},
   "outputs": [
    {
     "name": "stdout",
     "output_type": "stream",
     "text": [
      "Results from check matrices for A: \n",
      " {'symmetric': True, 'skew_symmetric': False, 'singular': -253159.99999999977}\n",
      "Results from check matrices for B: \n",
      " {'symmetric': False, 'skew_symmetric': False, 'singular': 0.0}\n",
      "Results from check matrices for C: \n",
      " {'symmetric': False, 'skew_symmetric': True, 'singular': 0.0}\n",
      "A is Non singular, B is Singular, C is Singular\n"
     ]
    }
   ],
   "source": [
    "# Starting with matrix A \n",
    "def check_matrices(mat): \n",
    "    mat_T = np.transpose(mat)\n",
    "    \n",
    "   \n",
    "    sym_check =np.allclose(mat_T,mat) ## Check if mat and mat_T are array equal\n",
    "    sksym_check =np.allclose(mat_T,-mat) ## Check if minus mat and mat_T are array equal\n",
    "    singular_check =np.linalg.det(mat) ## Using the numpy linear algebra package, calcuate the determinant\n",
    "    \n",
    "    ## Write a dict called results wehre you store the answers based on the keys \n",
    "    ## symmetric, ske_skymmetric and singular  \n",
    "    results ={\"symmetric\": sym_check,\n",
    "             \"skew_symmetric\": sksym_check,\n",
    "             \"singular\":singular_check}\n",
    "    return results \n",
    "\n",
    "\n",
    "results_A  = check_matrices(A)\n",
    "results_B = check_matrices(B)\n",
    "results_C = check_matrices(C)\n",
    "\n",
    "print(\"Results from check matrices for A: \\n {}\".format(results_A))\n",
    "print(\"Results from check matrices for B: \\n {}\".format(results_B))\n",
    "print(\"Results from check matrices for C: \\n {}\".format(results_C))\n",
    "\n",
    "# Are A, B and C singular? \n",
    "singular_A = \"Non singular\"\n",
    "singular_B = \"Singular\"\n",
    "singular_C = \"Singular\"\n",
    "\n",
    "print(\"A is {}, B is {}, C is {}\".format(singular_A, singular_B, singular_C))"
   ]
  },
  {
   "cell_type": "markdown",
   "metadata": {},
   "source": [
    "### Perform the following operations"
   ]
  },
  {
   "cell_type": "code",
   "execution_count": 4,
   "metadata": {},
   "outputs": [
    {
     "ename": "ValueError",
     "evalue": "operands could not be broadcast together with shapes (3,3) (4,4) ",
     "output_type": "error",
     "traceback": [
      "\u001b[1;31m---------------------------------------------------------------------------\u001b[0m",
      "\u001b[1;31mValueError\u001b[0m                                Traceback (most recent call last)",
      "\u001b[1;32m<ipython-input-4-07df1c0181f8>\u001b[0m in \u001b[0;36m<module>\u001b[1;34m\u001b[0m\n\u001b[0;32m      1\u001b[0m \u001b[1;31m# Add matrices A and B\u001b[0m\u001b[1;33m\u001b[0m\u001b[1;33m\u001b[0m\u001b[1;33m\u001b[0m\u001b[0m\n\u001b[1;32m----> 2\u001b[1;33m \u001b[0mprint\u001b[0m\u001b[1;33m(\u001b[0m\u001b[1;34m\"result of A + B is {}\"\u001b[0m\u001b[1;33m.\u001b[0m\u001b[0mformat\u001b[0m\u001b[1;33m(\u001b[0m\u001b[0mA\u001b[0m \u001b[1;33m+\u001b[0m \u001b[0mB\u001b[0m\u001b[1;33m)\u001b[0m\u001b[1;33m)\u001b[0m\u001b[1;33m\u001b[0m\u001b[1;33m\u001b[0m\u001b[0m\n\u001b[0m\u001b[0;32m      3\u001b[0m \u001b[1;33m\u001b[0m\u001b[0m\n\u001b[0;32m      4\u001b[0m \u001b[1;33m\u001b[0m\u001b[0m\n\u001b[0;32m      5\u001b[0m \u001b[1;31m#The addition can not be done. Two matrices can be added, only if they have the same dimensions.\u001b[0m\u001b[1;33m\u001b[0m\u001b[1;33m\u001b[0m\u001b[1;33m\u001b[0m\u001b[0m\n",
      "\u001b[1;31mValueError\u001b[0m: operands could not be broadcast together with shapes (3,3) (4,4) "
     ]
    }
   ],
   "source": [
    "# Add matrices A and B \n",
    "print(\"result of A + B is {}\".format(A + B))\n",
    "\n",
    "\n",
    "#The addition can not be done. Two matrices can be added, only if they have the same dimensions."
   ]
  },
  {
   "cell_type": "code",
   "execution_count": 5,
   "metadata": {},
   "outputs": [
    {
     "name": "stdout",
     "output_type": "stream",
     "text": [
      "matrix multiplication of A and C is : \n",
      " [[-2570.   -630.4 10698.5]\n",
      " [-2370.   -206.7 25476. ]\n",
      " [-7554.  -2541.   2776.7]]\n"
     ]
    }
   ],
   "source": [
    "matmul_AC  =np.matmul(A,C) # matrix multiply matrices A and C using numpy \n",
    "print(\"matrix multiplication of A and C is : \\n {}\".format(matmul_AC))\n",
    " "
   ]
  },
  {
   "cell_type": "code",
   "execution_count": null,
   "metadata": {},
   "outputs": [],
   "source": []
  }
 ],
 "metadata": {
  "kernelspec": {
   "display_name": "Python 3",
   "language": "python",
   "name": "python3"
  },
  "language_info": {
   "codemirror_mode": {
    "name": "ipython",
    "version": 3
   },
   "file_extension": ".py",
   "mimetype": "text/x-python",
   "name": "python",
   "nbconvert_exporter": "python",
   "pygments_lexer": "ipython3",
   "version": "3.7.6"
  }
 },
 "nbformat": 4,
 "nbformat_minor": 4
}
