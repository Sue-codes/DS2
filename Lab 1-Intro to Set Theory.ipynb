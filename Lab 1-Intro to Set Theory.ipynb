{
 "cells": [
  {
   "cell_type": "markdown",
   "metadata": {},
   "source": [
    "# Part 1"
   ]
  },
  {
   "cell_type": "markdown",
   "metadata": {},
   "source": [
    "\n",
    "Create a Set with the given list arr = [9,'g', 'h', 7, 5,'b', 8,'d', 0,'f', 1, 8,'e', 0,'a', 9, 2].\n",
    "\n",
    "Use python functions to create the following subsets from the set arr.\n",
    "\n"
   ]
  },
  {
   "cell_type": "code",
   "execution_count": 1,
   "metadata": {},
   "outputs": [
    {
     "name": "stdout",
     "output_type": "stream",
     "text": [
      "<class 'set'> <class 'set'>\n"
     ]
    }
   ],
   "source": [
    "#2 sets -\n",
    "#all_chars: all the charaters from arr\n",
    "#all_int: all the integers from arr\n",
    "\n",
    "arr = [9,'g', 'h', 7, 5,'b', 8,'d', 0,'f', 1, 8,'e', 0,'a', 9, 2]\n",
    "a = {'g','h','b','d','f','e','a'}\n",
    "b = {9,7,5,8,0,1,8,0,9,2} \n",
    "print(type(a),type(b))"
   ]
  },
  {
   "cell_type": "code",
   "execution_count": 2,
   "metadata": {},
   "outputs": [
    {
     "name": "stdout",
     "output_type": "stream",
     "text": [
      "{0, 1, 2, 5, 'a', 7, 8, 'd', 9}\n",
      "<class 'set'>\n"
     ]
    }
   ],
   "source": [
    "# A set of any 2 characters and all integers from arr, name it \"2char_int_set\"\n",
    "aa = {'d','a'}\n",
    "char_int_set = (aa|b)\n",
    "print(char_int_set)\n",
    "print(type(char_int_set))"
   ]
  },
  {
   "cell_type": "code",
   "execution_count": 3,
   "metadata": {},
   "outputs": [
    {
     "name": "stdout",
     "output_type": "stream",
     "text": [
      "{'a', 8, 9, 'f', 'd'}\n",
      "<class 'set'>\n"
     ]
    }
   ],
   "source": [
    "# A set of any 2 ints and any 3 characters from arr, name it \"2char_3int_set\"\n",
    "\n",
    "bb={8,9}\n",
    "aaa={'d','f','a'}\n",
    "char_3int_set = (bb|aaa)\n",
    "print(char_3int_set)\n",
    "print(type(char_3int_set))"
   ]
  },
  {
   "cell_type": "code",
   "execution_count": 4,
   "metadata": {},
   "outputs": [
    {
     "name": "stdout",
     "output_type": "stream",
     "text": [
      "{0, 1, 2, 'b', 5, 'a', 8, 9, 'h', 'f', 'e'}\n",
      "<class 'set'>\n"
     ]
    }
   ],
   "source": [
    "# A set named \"random_set\": that includes all objects in arr except 'g', 'd', 7, 3\n",
    "\n",
    "arr = [9,'g', 'h', 7, 5,'b', 8,'d', 0,'f', 1, 8,'e', 0,'a', 9, 2]\n",
    "unwanted_obj ={ 'g', 'd', 7, 3}\n",
    "newarr = [e for e in arr if e not in unwanted_obj]\n",
    "random_set =set(newarr)\n",
    "\n",
    "print(random_set)\n",
    "print(type(random_set))"
   ]
  },
  {
   "cell_type": "markdown",
   "metadata": {},
   "source": [
    "# Part 2"
   ]
  },
  {
   "cell_type": "markdown",
   "metadata": {},
   "source": [
    "P = [4,6,12,1,6,7,14,17,5,13,8,9,19,16,19,5,15,15,0,18]\n",
    "S = [5,0,3,11,3,7,9,3,5,2]\n"
   ]
  },
  {
   "cell_type": "code",
   "execution_count": 5,
   "metadata": {},
   "outputs": [
    {
     "name": "stdout",
     "output_type": "stream",
     "text": [
      "<class 'set'> <class 'set'>\n"
     ]
    }
   ],
   "source": [
    "P = {4,6,12,1,6,7,14,17,5,13,8,9,19,16,19,5,15,15,0,18}\n",
    "S = {5,0,3,11,3,7,9,3,5,2}\n",
    "print(type(P),type(S))"
   ]
  },
  {
   "cell_type": "code",
   "execution_count": 6,
   "metadata": {},
   "outputs": [
    {
     "data": {
      "text/plain": [
       "False"
      ]
     },
     "execution_count": 6,
     "metadata": {},
     "output_type": "execute_result"
    }
   ],
   "source": [
    "# Check if S is the subset of P.\n",
    "S.issubset(P)"
   ]
  },
  {
   "cell_type": "code",
   "execution_count": 7,
   "metadata": {},
   "outputs": [
    {
     "name": "stdout",
     "output_type": "stream",
     "text": [
      "{0, 9, 5, 7}\n"
     ]
    }
   ],
   "source": [
    "#If S is not a subset of P then create a new set with elements of S which also exist in P, using set operations.\n",
    "S2 = (S & P)\n",
    "print(S2)"
   ]
  },
  {
   "cell_type": "code",
   "execution_count": 8,
   "metadata": {},
   "outputs": [
    {
     "name": "stdout",
     "output_type": "stream",
     "text": [
      "Union: {0, 1, 2, 3, 4, 5, 6, 7, 8, 9, 11, 12, 13, 14, 15, 16, 17, 18, 19}\n"
     ]
    }
   ],
   "source": [
    "#Union of Sets - S  ∪  P\n",
    "\n",
    "print(\"Union:\", S | P)"
   ]
  },
  {
   "cell_type": "code",
   "execution_count": 9,
   "metadata": {},
   "outputs": [
    {
     "name": "stdout",
     "output_type": "stream",
     "text": [
      "Intersection: {0, 9, 5, 7}\n"
     ]
    }
   ],
   "source": [
    "#Intersection of Sets - S  ∩  P\n",
    "print(\"Intersection:\", S & P)"
   ]
  },
  {
   "cell_type": "code",
   "execution_count": 10,
   "metadata": {},
   "outputs": [
    {
     "name": "stdout",
     "output_type": "stream",
     "text": [
      "Difference: {11, 2, 3}\n",
      "Difference: {1, 4, 6, 8, 12, 13, 14, 15, 16, 17, 18, 19}\n"
     ]
    }
   ],
   "source": [
    "#Difference of Sets - Both S-P and P-S\n",
    "print(\"Difference:\", S-P)\n",
    "print(\"Difference:\", P-S)"
   ]
  },
  {
   "cell_type": "code",
   "execution_count": 11,
   "metadata": {},
   "outputs": [],
   "source": [
    "# Assuming that Universal set, 'set_U' consists of the below elements\n",
    "\n",
    "set_U = [12, 40, 31, 21, 5, 28, 27, 15, 26, 50, 2, 0, 30, 9, 19, 48, 25, 18, 37, 13, 33, 14, 34, 22, 3, 24, 42, 41, 29,\n",
    "         17, 43, 36, 16, 47, 39, 8, 44, 23, 6, 1, 10, 7, 20, 4, 11, 35, 49, 46, 38, 32, 45]\n",
    "\n",
    "#Identify the limits (Boundary Values) of set = {set_U - (S ∪ P)}"
   ]
  },
  {
   "cell_type": "code",
   "execution_count": 16,
   "metadata": {},
   "outputs": [
    {
     "name": "stdout",
     "output_type": "stream",
     "text": [
      "{0, 1, 2, 3, 4, 5, 6, 7, 8, 9, 11, 12, 13, 14, 15, 16, 17, 18, 19}\n",
      "<class 'set'>\n"
     ]
    }
   ],
   "source": [
    "set_U = [12, 40, 31, 21, 5, 28, 27, 15, 26, 50, 2, 0, 30, 9, 19, 48, 25, 18, 37, 13, 33, 14, 34, 22, 3, 24, 42, 41, 29,\n",
    "         17, 43, 36, 16, 47, 39, 8, 44, 23, 6, 1, 10, 7, 20, 4, 11, 35, 49, 46, 38, 32, 45]\n",
    "Y= S|P\n",
    "print(Y)\n",
    "limit =(set(set_U)-Y)\n",
    "print(type(limit))"
   ]
  },
  {
   "cell_type": "code",
   "execution_count": null,
   "metadata": {},
   "outputs": [],
   "source": []
  }
 ],
 "metadata": {
  "kernelspec": {
   "display_name": "Python 3",
   "language": "python",
   "name": "python3"
  },
  "language_info": {
   "codemirror_mode": {
    "name": "ipython",
    "version": 3
   },
   "file_extension": ".py",
   "mimetype": "text/x-python",
   "name": "python",
   "nbconvert_exporter": "python",
   "pygments_lexer": "ipython3",
   "version": "3.7.6"
  }
 },
 "nbformat": 4,
 "nbformat_minor": 4
}
