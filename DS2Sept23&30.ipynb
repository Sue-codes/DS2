{
 "cells": [
  {
   "cell_type": "code",
   "execution_count": 2,
   "metadata": {},
   "outputs": [
    {
     "name": "stdout",
     "output_type": "stream",
     "text": [
      "Numpy abs function 10\n"
     ]
    }
   ],
   "source": [
    "import numpy as np\n",
    "\n",
    "a = -10\n",
    "abs_val = np.abs(a)\n",
    "print(\"Numpy abs function {}\".format(abs_val))"
   ]
  },
  {
   "cell_type": "code",
   "execution_count": 3,
   "metadata": {},
   "outputs": [
    {
     "name": "stdout",
     "output_type": "stream",
     "text": [
      "Custom abs function 10\n"
     ]
    }
   ],
   "source": [
    "def abs(x):\n",
    "    if x < 0:\n",
    "        x = -x\n",
    "    return x\n",
    "abs_val_custom = abs(a)\n",
    "print(\"Custom abs function {}\".format(abs_val_custom))\n"
   ]
  },
  {
   "cell_type": "code",
   "execution_count": 1,
   "metadata": {},
   "outputs": [
    {
     "name": "stdout",
     "output_type": "stream",
     "text": [
      "{'Apples', 'Bananas', 'Grapes', 'Mangoes', 'Peaches'}\n"
     ]
    }
   ],
   "source": [
    "a = {\"Apples\",\"Bananas\",\"Peaches\",\"Grapes\",\"Bananas\",\"Mangoes\",\"Bananas\"}\n",
    "# or\n",
    "a = set([\"Apples\",\"Bananas\",\"Peaches\",\"Grapes\",\"Bananas\",\"Mangoes\",\"Bananas\"])\n",
    "print(a)"
   ]
  },
  {
   "cell_type": "code",
   "execution_count": 2,
   "metadata": {},
   "outputs": [
    {
     "name": "stdout",
     "output_type": "stream",
     "text": [
      "<class 'set'>\n"
     ]
    }
   ],
   "source": [
    "print(type(a))"
   ]
  },
  {
   "cell_type": "code",
   "execution_count": 3,
   "metadata": {},
   "outputs": [
    {
     "name": "stdout",
     "output_type": "stream",
     "text": [
      "<class 'set'>\n",
      "Apples\n",
      "Bananas\n",
      "Grapes\n",
      "Mangoes\n",
      "Peaches\n"
     ]
    }
   ],
   "source": [
    "print(type(a))\n",
    "# a[0]\n",
    "for x in a:\n",
    "    print(x)"
   ]
  },
  {
   "cell_type": "code",
   "execution_count": 4,
   "metadata": {},
   "outputs": [
    {
     "name": "stdout",
     "output_type": "stream",
     "text": [
      "<class 'set'> <class 'set'>\n"
     ]
    }
   ],
   "source": [
    "A ={1,2,3,4}\n",
    "B ={1,2}\n",
    "print(type(A),type(B))"
   ]
  },
  {
   "cell_type": "code",
   "execution_count": 5,
   "metadata": {},
   "outputs": [
    {
     "data": {
      "text/plain": [
       "False"
      ]
     },
     "execution_count": 5,
     "metadata": {},
     "output_type": "execute_result"
    }
   ],
   "source": [
    "A.issubset(B)"
   ]
  },
  {
   "cell_type": "code",
   "execution_count": 6,
   "metadata": {},
   "outputs": [
    {
     "data": {
      "text/plain": [
       "True"
      ]
     },
     "execution_count": 6,
     "metadata": {},
     "output_type": "execute_result"
    }
   ],
   "source": [
    "B.issubset(A)"
   ]
  },
  {
   "cell_type": "code",
   "execution_count": 7,
   "metadata": {},
   "outputs": [
    {
     "data": {
      "text/plain": [
       "True"
      ]
     },
     "execution_count": 7,
     "metadata": {},
     "output_type": "execute_result"
    }
   ],
   "source": [
    "A.issuperset(B)"
   ]
  },
  {
   "cell_type": "code",
   "execution_count": 8,
   "metadata": {},
   "outputs": [
    {
     "name": "stdout",
     "output_type": "stream",
     "text": [
      "{2, 3, 5, 6, 7, 8, 10}\n"
     ]
    }
   ],
   "source": [
    "A={2,3,5,6,7,8}\n",
    "A.add(10)\n",
    "print(A)"
   ]
  },
  {
   "cell_type": "code",
   "execution_count": 9,
   "metadata": {},
   "outputs": [
    {
     "name": "stdout",
     "output_type": "stream",
     "text": [
      "{3, 5, 6, 7, 8, 10}\n"
     ]
    }
   ],
   "source": [
    "A.remove(2)\n",
    "print(A)"
   ]
  },
  {
   "cell_type": "code",
   "execution_count": 10,
   "metadata": {},
   "outputs": [
    {
     "name": "stdout",
     "output_type": "stream",
     "text": [
      "{5, 6, 7, 8, 10}\n"
     ]
    }
   ],
   "source": [
    "A.discard(3)\n",
    "print(A)"
   ]
  },
  {
   "cell_type": "code",
   "execution_count": 11,
   "metadata": {},
   "outputs": [
    {
     "name": "stdout",
     "output_type": "stream",
     "text": [
      "Union: {'Potatoes', 'Bananas', 'Tomatoes', 'Mangoes', 'Apples'}\n",
      "Intersection: {'Apples', 'Bananas'}\n",
      "Difference: {'Mangoes'}\n",
      "Addition: {'Potatoes', 'Tomatoes'}\n",
      "Symetric difference: {'Tomatoes', 'Potatoes', 'Mangoes'}\n"
     ]
    }
   ],
   "source": [
    "A={\"Apples\",\"Bananas\",\"Mangoes\"}\n",
    "B={\"Bananas\",\"Tomatoes\",\"Apples\",\"Potatoes\"}\n",
    "\n",
    "#Union\n",
    "print(\"Union:\",A|B)\n",
    "#Intersection\n",
    "print(\"Intersection:\", A & B)\n",
    "#Difference A-B\n",
    "print(\"Difference:\", A-B)\n",
    "#Difference B-A\n",
    "print(\"Addition:\", B-A)\n",
    "#symmetric difference\n",
    "print(\"Symetric difference:\",A^B)"
   ]
  },
  {
   "cell_type": "code",
   "execution_count": 12,
   "metadata": {},
   "outputs": [
    {
     "name": "stdout",
     "output_type": "stream",
     "text": [
      "Union: {'Potatoes', 'Bananas', 'Tomatoes', 'Mangoes', 'Apples'}\n",
      "Union: {'Potatoes', 'Bananas', 'Tomatoes', 'Mangoes', 'Apples'}\n",
      "Intersection: {'Apples', 'Bananas'}\n",
      "Intersection: {'Apples', 'Bananas'}\n",
      "Difference: {'Mangoes'}\n",
      "Addition: {'Potatoes', 'Tomatoes'}\n",
      "Symetric difference: {'Tomatoes', 'Potatoes', 'Mangoes'}\n"
     ]
    }
   ],
   "source": [
    "A={\"Apples\",\"Bananas\",\"Mangoes\"}\n",
    "B={\"Bananas\",\"Tomatoes\",\"Apples\",\"Potatoes\"}\n",
    "\n",
    "#Union\n",
    "print(\"Union:\",A|B)\n",
    "print(\"Union:\",B|A)\n",
    "#Intersection\n",
    "print(\"Intersection:\", A & B)\n",
    "print(\"Intersection:\", B & A)\n",
    "#Difference A-B\n",
    "print(\"Difference:\", A-B)\n",
    "#Difference B-A\n",
    "print(\"Addition:\", B-A)\n",
    "#symmetric difference\n",
    "print(\"Symetric difference:\",A^B)"
   ]
  },
  {
   "cell_type": "code",
   "execution_count": null,
   "metadata": {},
   "outputs": [],
   "source": []
  }
 ],
 "metadata": {
  "kernelspec": {
   "display_name": "Python 3",
   "language": "python",
   "name": "python3"
  },
  "language_info": {
   "codemirror_mode": {
    "name": "ipython",
    "version": 3
   },
   "file_extension": ".py",
   "mimetype": "text/x-python",
   "name": "python",
   "nbconvert_exporter": "python",
   "pygments_lexer": "ipython3",
   "version": "3.7.6"
  }
 },
 "nbformat": 4,
 "nbformat_minor": 4
}
